{
 "cells": [
  {
   "cell_type": "code",
   "execution_count": 1,
   "metadata": {},
   "outputs": [
    {
     "ename": "SyntaxError",
     "evalue": "':' expected after dictionary key (420437475.py, line 13)",
     "output_type": "error",
     "traceback": [
      "\u001b[1;36m  Cell \u001b[1;32mIn [1], line 13\u001b[1;36m\u001b[0m\n\u001b[1;33m    {'Refund Status': 'No', 'No', 'Tax Income': 65, 'Filing Status': 'Single'},\u001b[0m\n\u001b[1;37m                               ^\u001b[0m\n\u001b[1;31mSyntaxError\u001b[0m\u001b[1;31m:\u001b[0m ':' expected after dictionary key\n"
     ]
    }
   ],
   "source": [
    "import pandas as pd\n",
    "\n",
    "# Create a list of dictionaries\n",
    "data = [\n",
    "    {'Refund Status': 'Yes', 'Tax Income': 115, 'Filing Status': 'Single'},\n",
    "    {'Refund Status': 'Yes', 'Tax Income': 60, 'Filing Status': 'Single'},\n",
    "    {'Refund Status': 'Yes', 'Tax Income': 40, 'Filing Status': 'Single'},\n",
    "    {'Refund Status': 'Yes', 'Tax Income': 130, 'Filing Status': 'Married'},\n",
    "    {'Refund Status': 'No', 'Tax Income': 80, 'Filing Status': 'Married'},\n",
    "    {'Refund Status': 'Yes', 'Tax Income': 130, 'Filing Status': 'Divorced'},\n",
    "    {'Refund Status': 'Yes', 'Tax Income': 80, 'Filing Status': 'Divorced'},\n",
    "    {'Refund Status': 'No', 'Tax Income': 75, 'Filing Status': 'Single'},\n",
    "    {'Refund Status': 'No', 'No', 'Tax Income': 65, 'Filing Status': 'Single'},\n",
    "    {'Refund Status': 'Yes', 'Tax Income': 125, 'Filing Status': 'Married'},\n",
    "    {'Refund Status': 'No', 'Tax Income': 80, 'Filing Status': 'Married'},\n",
    "    {'Refund Status': 'No', 'Tax Income': 90, 'Filing Status': 'Divorced'},\n",
    "    {'Refund Status': 'Yes', 'Tax Income': 75, 'Filing Status': 'Divorced'}\n",
    "]\n",
    "\n",
    "# Create a Pandas DataFrame\n",
    "df = pd.DataFrame(data)\n",
    "\n",
    "# Print the DataFrame\n",
    "print(df)"
   ]
  }
 ],
 "metadata": {
  "kernelspec": {
   "display_name": "Python 3",
   "language": "python",
   "name": "python3"
  },
  "language_info": {
   "codemirror_mode": {
    "name": "ipython",
    "version": 3
   },
   "file_extension": ".py",
   "mimetype": "text/x-python",
   "name": "python",
   "nbconvert_exporter": "python",
   "pygments_lexer": "ipython3",
   "version": "3.10.6"
  }
 },
 "nbformat": 4,
 "nbformat_minor": 2
}
